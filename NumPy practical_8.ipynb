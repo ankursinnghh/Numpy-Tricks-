{
 "cells": [
  {
   "cell_type": "markdown",
   "id": "82995bc7",
   "metadata": {},
   "source": [
    "# Python NumPy Tutorial : 9"
   ]
  },
  {
   "cell_type": "markdown",
   "id": "a97bcc16",
   "metadata": {},
   "source": [
    "# Random Sampling With NumPy "
   ]
  },
  {
   "cell_type": "code",
   "execution_count": 1,
   "id": "bd7b76d0",
   "metadata": {},
   "outputs": [],
   "source": [
    "import numpy as np\n",
    "import random \n",
    "# we use the random function in the otp generation "
   ]
  },
  {
   "cell_type": "code",
   "execution_count": 2,
   "id": "c56d49cd",
   "metadata": {},
   "outputs": [
    {
     "data": {
      "text/plain": [
       "array([0.29966559])"
      ]
     },
     "execution_count": 2,
     "metadata": {},
     "output_type": "execute_result"
    }
   ],
   "source": [
    "np.random.random(1) #whwn we use the \"random\" function the value is in between 0 to 1 always"
   ]
  },
  {
   "cell_type": "code",
   "execution_count": 3,
   "id": "66d83465",
   "metadata": {},
   "outputs": [
    {
     "data": {
      "text/plain": [
       "array([[0.67175993, 0.98120554, 0.8124554 ],\n",
       "       [0.25925762, 0.47223431, 0.37650466],\n",
       "       [0.97922544, 0.49838728, 0.92736577]])"
      ]
     },
     "execution_count": 3,
     "metadata": {},
     "output_type": "execute_result"
    }
   ],
   "source": [
    "np.random.random((3,3)) #there we get the 2d array , in which there is an 3 row and 3 column is available , and the value of \n",
    "#elemnts is lies between \"1\" to \"0\""
   ]
  },
  {
   "cell_type": "code",
   "execution_count": 4,
   "id": "114d11e3",
   "metadata": {},
   "outputs": [
    {
     "data": {
      "text/plain": [
       "1"
      ]
     },
     "execution_count": 4,
     "metadata": {},
     "output_type": "execute_result"
    }
   ],
   "source": [
    "np.random.randint(1,4) # here we get the  random number between \"1\" to \"4\""
   ]
  },
  {
   "cell_type": "code",
   "execution_count": 5,
   "id": "9a993f2a",
   "metadata": {},
   "outputs": [
    {
     "data": {
      "text/plain": [
       "array([[1, 2, 3, 3],\n",
       "       [2, 3, 3, 1],\n",
       "       [2, 3, 1, 2],\n",
       "       [3, 2, 2, 1]])"
      ]
     },
     "execution_count": 5,
     "metadata": {},
     "output_type": "execute_result"
    }
   ],
   "source": [
    "np.random.randint(1,4,(4,4)) # 2d array created in the form of array and the element of the array is lies between (1,4)"
   ]
  },
  {
   "cell_type": "code",
   "execution_count": 6,
   "id": "3f75d8e6",
   "metadata": {},
   "outputs": [
    {
     "data": {
      "text/plain": [
       "array([[[2, 1, 3, 2],\n",
       "        [1, 2, 3, 2],\n",
       "        [2, 1, 3, 2],\n",
       "        [3, 3, 3, 3]],\n",
       "\n",
       "       [[3, 1, 3, 1],\n",
       "        [2, 1, 2, 3],\n",
       "        [3, 2, 3, 1],\n",
       "        [3, 3, 2, 2]],\n",
       "\n",
       "       [[3, 2, 2, 2],\n",
       "        [2, 3, 1, 3],\n",
       "        [2, 1, 1, 1],\n",
       "        [1, 2, 2, 1]]])"
      ]
     },
     "execution_count": 6,
     "metadata": {},
     "output_type": "execute_result"
    }
   ],
   "source": [
    "np.random.randint(1,4,(3,4,4)) # 3d array is created in the output of the cell , and the element is lies between the (1,4)\n",
    "#(3,4,4) where 3 indicates number of matrix , and (4,4) indicates the 4 row and 4 column this is used for the \n",
    "#understanding of 3d array\n",
    "#randint gives values which change time to time , when we run the cell again and again the\n",
    "#the values are change"
   ]
  },
  {
   "cell_type": "code",
   "execution_count": 7,
   "id": "e49798f3",
   "metadata": {},
   "outputs": [
    {
     "data": {
      "text/plain": [
       "array([[[2, 2, 1, 1],\n",
       "        [2, 1, 2, 2],\n",
       "        [1, 2, 2, 3],\n",
       "        [1, 2, 1, 3]],\n",
       "\n",
       "       [[1, 3, 1, 1],\n",
       "        [1, 3, 1, 3],\n",
       "        [3, 2, 1, 1],\n",
       "        [3, 2, 3, 2]],\n",
       "\n",
       "       [[2, 2, 2, 3],\n",
       "        [2, 1, 3, 3],\n",
       "        [3, 2, 1, 2],\n",
       "        [2, 1, 3, 2]]])"
      ]
     },
     "execution_count": 7,
     "metadata": {},
     "output_type": "execute_result"
    }
   ],
   "source": [
    "np.random.seed(10)\n",
    "np.random.randint(1,4,(3,4,4))\n",
    "#seed(10) gives the same output in output cell every time when we use \n",
    "#which shown in the below cell"
   ]
  },
  {
   "cell_type": "code",
   "execution_count": 8,
   "id": "fbc339dd",
   "metadata": {},
   "outputs": [
    {
     "data": {
      "text/plain": [
       "array([[[2, 2, 1, 1],\n",
       "        [2, 1, 2, 2],\n",
       "        [1, 2, 2, 3],\n",
       "        [1, 2, 1, 3]],\n",
       "\n",
       "       [[1, 3, 1, 1],\n",
       "        [1, 3, 1, 3],\n",
       "        [3, 2, 1, 1],\n",
       "        [3, 2, 3, 2]],\n",
       "\n",
       "       [[2, 2, 2, 3],\n",
       "        [2, 1, 3, 3],\n",
       "        [3, 2, 1, 2],\n",
       "        [2, 1, 3, 2]]])"
      ]
     },
     "execution_count": 8,
     "metadata": {},
     "output_type": "execute_result"
    }
   ],
   "source": [
    "np.random.seed(10)\n",
    "np.random.randint(1,4,(3,4,4))"
   ]
  },
  {
   "cell_type": "code",
   "execution_count": 9,
   "id": "2d995800",
   "metadata": {},
   "outputs": [
    {
     "data": {
      "text/plain": [
       "4294967295"
      ]
     },
     "execution_count": 9,
     "metadata": {},
     "output_type": "execute_result"
    }
   ],
   "source": [
    "2**32 -1 #output represent the number of pattern through which we can generate the random value "
   ]
  },
  {
   "cell_type": "code",
   "execution_count": 11,
   "id": "b57b142b",
   "metadata": {},
   "outputs": [
    {
     "data": {
      "text/plain": [
       "array([0.8052232 , 0.52164715, 0.90864888, 0.31923609, 0.09045935])"
      ]
     },
     "execution_count": 11,
     "metadata": {},
     "output_type": "execute_result"
    }
   ],
   "source": [
    "np.random.rand(5) # we get output with random three numbers in array which shown in output "
   ]
  },
  {
   "cell_type": "code",
   "execution_count": 12,
   "id": "47f7afb2",
   "metadata": {},
   "outputs": [
    {
     "data": {
      "text/plain": [
       "array([0.30070006, 0.11398436, 0.82868133, 0.04689632, 0.62628715])"
      ]
     },
     "execution_count": 12,
     "metadata": {},
     "output_type": "execute_result"
    }
   ],
   "source": [
    "np.random.rand(5)"
   ]
  },
  {
   "cell_type": "code",
   "execution_count": 13,
   "id": "c7ddec2a",
   "metadata": {},
   "outputs": [
    {
     "data": {
      "text/plain": [
       "array([[0.54758616, 0.819287  , 0.19894754, 0.8568503 , 0.35165264],\n",
       "       [0.75464769, 0.29596171, 0.88393648, 0.32551164, 0.1650159 ],\n",
       "       [0.39252924, 0.09346037, 0.82110566, 0.15115202, 0.38411445],\n",
       "       [0.94426071, 0.98762547, 0.45630455, 0.82612284, 0.25137413],\n",
       "       [0.59737165, 0.90283176, 0.53455795, 0.59020136, 0.03928177]])"
      ]
     },
     "execution_count": 13,
     "metadata": {},
     "output_type": "execute_result"
    }
   ],
   "source": [
    "np.random.rand(5,5) # we have created random array with 5 row and 5 column "
   ]
  },
  {
   "cell_type": "code",
   "execution_count": 15,
   "id": "d822782b",
   "metadata": {},
   "outputs": [
    {
     "data": {
      "text/plain": [
       "array([[0.35718176, 0.07961309, 0.30545992, 0.33071931, 0.7738303 ],\n",
       "       [0.03995921, 0.42949218, 0.31492687, 0.63649114, 0.34634715],\n",
       "       [0.04309736, 0.87991517, 0.76324059, 0.87809664, 0.41750914],\n",
       "       [0.60557756, 0.51346663, 0.59783665, 0.26221566, 0.30087131],\n",
       "       [0.02539978, 0.30306256, 0.24207588, 0.55757819, 0.56550702]])"
      ]
     },
     "execution_count": 15,
     "metadata": {},
     "output_type": "execute_result"
    }
   ],
   "source": [
    "np.random.rand(5,5) # output is different from the above one because its random"
   ]
  },
  {
   "cell_type": "code",
   "execution_count": 16,
   "id": "36bb312a",
   "metadata": {},
   "outputs": [
    {
     "data": {
      "text/plain": [
       "3"
      ]
     },
     "execution_count": 16,
     "metadata": {},
     "output_type": "execute_result"
    }
   ],
   "source": [
    "x= [1,2,3,4]\n",
    "np.random.choice(x)"
   ]
  },
  {
   "cell_type": "code",
   "execution_count": 17,
   "id": "cad1605b",
   "metadata": {},
   "outputs": [
    {
     "data": {
      "text/plain": [
       "3"
      ]
     },
     "execution_count": 17,
     "metadata": {},
     "output_type": "execute_result"
    }
   ],
   "source": [
    "np.random.choice(x)"
   ]
  },
  {
   "cell_type": "code",
   "execution_count": 18,
   "id": "f10578e7",
   "metadata": {},
   "outputs": [
    {
     "data": {
      "text/plain": [
       "3"
      ]
     },
     "execution_count": 18,
     "metadata": {},
     "output_type": "execute_result"
    }
   ],
   "source": [
    "np.random.choice(x)"
   ]
  },
  {
   "cell_type": "code",
   "execution_count": 21,
   "id": "d42ced2c",
   "metadata": {},
   "outputs": [
    {
     "name": "stdout",
     "output_type": "stream",
     "text": [
      "2\n",
      "3\n",
      "4\n",
      "1\n",
      "2\n",
      "2\n",
      "2\n",
      "4\n",
      "2\n",
      "4\n",
      "3\n",
      "2\n",
      "4\n",
      "2\n",
      "2\n",
      "4\n",
      "4\n",
      "1\n",
      "1\n",
      "2\n"
     ]
    }
   ],
   "source": [
    "for i in range(20):\n",
    "    print(np.random.choice(x))\n"
   ]
  },
  {
   "cell_type": "code",
   "execution_count": 22,
   "id": "c214fa51",
   "metadata": {},
   "outputs": [
    {
     "data": {
      "text/plain": [
       "[1, 2, 3, 4]"
      ]
     },
     "execution_count": 22,
     "metadata": {},
     "output_type": "execute_result"
    }
   ],
   "source": [
    "x"
   ]
  },
  {
   "cell_type": "code",
   "execution_count": 23,
   "id": "0c060e90",
   "metadata": {},
   "outputs": [
    {
     "data": {
      "text/plain": [
       "array([3, 4, 1, 2])"
      ]
     },
     "execution_count": 23,
     "metadata": {},
     "output_type": "execute_result"
    }
   ],
   "source": [
    "np.random.permutation(x)"
   ]
  },
  {
   "cell_type": "code",
   "execution_count": 24,
   "id": "a0533af7",
   "metadata": {},
   "outputs": [
    {
     "data": {
      "text/plain": [
       "array([1, 2, 3, 4])"
      ]
     },
     "execution_count": 24,
     "metadata": {},
     "output_type": "execute_result"
    }
   ],
   "source": [
    "np.random.permutation(x)"
   ]
  },
  {
   "cell_type": "code",
   "execution_count": 25,
   "id": "56852054",
   "metadata": {},
   "outputs": [
    {
     "data": {
      "text/plain": [
       "array([3, 4, 2, 1])"
      ]
     },
     "execution_count": 25,
     "metadata": {},
     "output_type": "execute_result"
    }
   ],
   "source": [
    "np.random.permutation(x)"
   ]
  },
  {
   "cell_type": "code",
   "execution_count": 26,
   "id": "e990d99e",
   "metadata": {},
   "outputs": [
    {
     "data": {
      "text/plain": [
       "array([3, 4, 2, 1])"
      ]
     },
     "execution_count": 26,
     "metadata": {},
     "output_type": "execute_result"
    }
   ],
   "source": [
    "np.random.permutation(x)"
   ]
  },
  {
   "cell_type": "code",
   "execution_count": 27,
   "id": "e8d8bfb4",
   "metadata": {},
   "outputs": [
    {
     "data": {
      "text/plain": [
       "array([1, 3, 2, 4])"
      ]
     },
     "execution_count": 27,
     "metadata": {},
     "output_type": "execute_result"
    }
   ],
   "source": [
    "np.random.permutation(x)"
   ]
  },
  {
   "cell_type": "code",
   "execution_count": null,
   "id": "6f593620",
   "metadata": {},
   "outputs": [],
   "source": []
  }
 ],
 "metadata": {
  "kernelspec": {
   "display_name": "Python 3 (ipykernel)",
   "language": "python",
   "name": "python3"
  },
  "language_info": {
   "codemirror_mode": {
    "name": "ipython",
    "version": 3
   },
   "file_extension": ".py",
   "mimetype": "text/x-python",
   "name": "python",
   "nbconvert_exporter": "python",
   "pygments_lexer": "ipython3",
   "version": "3.10.9"
  }
 },
 "nbformat": 4,
 "nbformat_minor": 5
}
