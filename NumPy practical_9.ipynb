{
 "cells": [
  {
   "cell_type": "markdown",
   "id": "c11efaac",
   "metadata": {},
   "source": [
    "# Python NumPy Tutorial : Part 10"
   ]
  },
  {
   "cell_type": "markdown",
   "id": "ae67fc9e",
   "metadata": {},
   "source": [
    "# string Operation, Comparison and information"
   ]
  },
  {
   "cell_type": "code",
   "execution_count": 1,
   "id": "838dcdb2",
   "metadata": {},
   "outputs": [],
   "source": [
    "#jp app koi project pe kaam kar rhe ho apke pass string type ki data hai, aur uss string type of data k upar apko operation\n",
    "#perform karna hai to NumPy ka isstemaal karke tb apko string operation comparisan and information ko use karna padega "
   ]
  },
  {
   "cell_type": "code",
   "execution_count": 2,
   "id": "e3b328c3",
   "metadata": {},
   "outputs": [],
   "source": [
    "import numpy as np "
   ]
  },
  {
   "cell_type": "code",
   "execution_count": 5,
   "id": "2729b552",
   "metadata": {},
   "outputs": [
    {
     "data": {
      "text/plain": [
       "array('Indian AI ProductionLearning Python NumPy', dtype='<U41')"
      ]
     },
     "execution_count": 5,
     "metadata": {},
     "output_type": "execute_result"
    }
   ],
   "source": [
    "ch_name=\"Indian AI Production\"\n",
    "str1 = \"Learning Python NumPy\"\n",
    "np.char.add(ch_name, str1) # in the output both the string are getting add"
   ]
  },
  {
   "cell_type": "code",
   "execution_count": 8,
   "id": "780ba115",
   "metadata": {},
   "outputs": [
    {
     "data": {
      "text/plain": [
       "array('indian ai production', dtype='<U20')"
      ]
     },
     "execution_count": 8,
     "metadata": {},
     "output_type": "execute_result"
    }
   ],
   "source": [
    "#to convert in lower case \n",
    "np.char.lower(ch_name) "
   ]
  },
  {
   "cell_type": "code",
   "execution_count": 9,
   "id": "7f7615dd",
   "metadata": {},
   "outputs": [
    {
     "data": {
      "text/plain": [
       "array('LEARNING PYTHON NUMPY', dtype='<U21')"
      ]
     },
     "execution_count": 9,
     "metadata": {},
     "output_type": "execute_result"
    }
   ],
   "source": [
    "#to convert into upper case \n",
    "np.char.upper(str1)"
   ]
  },
  {
   "cell_type": "code",
   "execution_count": 10,
   "id": "b56fcb84",
   "metadata": {},
   "outputs": [
    {
     "data": {
      "text/plain": [
       "array('                   Learning Python NumPy                    ',\n",
       "      dtype='<U60')"
      ]
     },
     "execution_count": 10,
     "metadata": {},
     "output_type": "execute_result"
    }
   ],
   "source": [
    "#to put the data in the centre we use the center function \n",
    "np.char.center(str1,60)"
   ]
  },
  {
   "cell_type": "code",
   "execution_count": 11,
   "id": "f370addb",
   "metadata": {},
   "outputs": [
    {
     "data": {
      "text/plain": [
       "array('*******************Learning Python NumPy********************',\n",
       "      dtype='<U60')"
      ]
     },
     "execution_count": 11,
     "metadata": {},
     "output_type": "execute_result"
    }
   ],
   "source": [
    "# we put the str1 in center and the spaces fill with \"*\" as shown in the output \n",
    "np.char.center(str1,60, fillchar=\"*\")"
   ]
  },
  {
   "cell_type": "code",
   "execution_count": 13,
   "id": "da217c6b",
   "metadata": {},
   "outputs": [
    {
     "data": {
      "text/plain": [
       "array(list(['Indian', 'AI', 'Production']), dtype=object)"
      ]
     },
     "execution_count": 13,
     "metadata": {},
     "output_type": "execute_result"
    }
   ],
   "source": [
    "np.char.split(ch_name) # in the output we got \"ch_name\" in the split form of 3 item "
   ]
  },
  {
   "cell_type": "code",
   "execution_count": 14,
   "id": "9353154c",
   "metadata": {},
   "outputs": [
    {
     "data": {
      "text/plain": [
       "array(list(['hello', 'Indian']), dtype=object)"
      ]
     },
     "execution_count": 14,
     "metadata": {},
     "output_type": "execute_result"
    }
   ],
   "source": [
    "np.char.splitlines(\"hello\\nIndian\") # \"\\\" it is an backslash\n",
    "# when we have the backslash \"\\\" in the code then we use \"splitlines\" for the spliting process"
   ]
  },
  {
   "cell_type": "code",
   "execution_count": 15,
   "id": "e63ecc77",
   "metadata": {},
   "outputs": [
    {
     "data": {
      "text/plain": [
       "array(['d:m:y', 'd/m/y'], dtype='<U5')"
      ]
     },
     "execution_count": 15,
     "metadata": {},
     "output_type": "execute_result"
    }
   ],
   "source": [
    "str4 =\"dmy\"\n",
    "str5=\"dmy\"\n",
    "np.char.join([\":\",\"/\"],[str4, str5]) # here the output we got usin the \"join function\" as acoording in the code "
   ]
  },
  {
   "cell_type": "code",
   "execution_count": 19,
   "id": "9d783427",
   "metadata": {},
   "outputs": [
    {
     "data": {
      "text/plain": [
       "array('Indian Artificial intelligence Production', dtype='<U41')"
      ]
     },
     "execution_count": 19,
     "metadata": {},
     "output_type": "execute_result"
    }
   ],
   "source": [
    "ch_name=\"Indian AI Production\"\n",
    "np.char.replace(ch_name,\"AI\",'Artificial intelligence') # in this way we can replace \"AI\" with \"Artificial Intelligence\""
   ]
  },
  {
   "cell_type": "markdown",
   "id": "d5db5839",
   "metadata": {},
   "source": [
    "# discuss on camparisan"
   ]
  },
  {
   "cell_type": "code",
   "execution_count": 20,
   "id": "1dcf796b",
   "metadata": {},
   "outputs": [
    {
     "data": {
      "text/plain": [
       "array(True)"
      ]
     },
     "execution_count": 20,
     "metadata": {},
     "output_type": "execute_result"
    }
   ],
   "source": [
    "np.char.equal(str4,str5) # it means the str4 and str5  both are same thats why its show in output is\"true\""
   ]
  },
  {
   "cell_type": "markdown",
   "id": "4262ae9b",
   "metadata": {},
   "source": [
    "# discuss on information"
   ]
  },
  {
   "cell_type": "code",
   "execution_count": 21,
   "id": "975c1a75",
   "metadata": {},
   "outputs": [
    {
     "data": {
      "text/plain": [
       "array(1)"
      ]
     },
     "execution_count": 21,
     "metadata": {},
     "output_type": "execute_result"
    }
   ],
   "source": [
    "np.char.count(ch_name,\"a\") # in output it counts the  how many times \"a\" used in the \"ch_name\""
   ]
  },
  {
   "cell_type": "code",
   "execution_count": 22,
   "id": "567b1860",
   "metadata": {},
   "outputs": [
    {
     "data": {
      "text/plain": [
       "'Indian AI Production'"
      ]
     },
     "execution_count": 22,
     "metadata": {},
     "output_type": "execute_result"
    }
   ],
   "source": [
    "ch_name # in this  Indian AI Production small \"a\" is only times thats why it shows 1 in output ofg above cell "
   ]
  },
  {
   "cell_type": "code",
   "execution_count": 28,
   "id": "44b8e3c8",
   "metadata": {},
   "outputs": [
    {
     "data": {
      "text/plain": [
       "array(10)"
      ]
     },
     "execution_count": 28,
     "metadata": {},
     "output_type": "execute_result"
    }
   ],
   "source": [
    "#using find function\n",
    "np.char.find(ch_name,\"P\") # it tells the position of index in the output\n"
   ]
  },
  {
   "cell_type": "code",
   "execution_count": 31,
   "id": "223569c1",
   "metadata": {},
   "outputs": [
    {
     "data": {
      "text/plain": [
       "array(7)"
      ]
     },
     "execution_count": 31,
     "metadata": {},
     "output_type": "execute_result"
    }
   ],
   "source": [
    "np.char.find(ch_name,\"AI\") # it also tells the index of \"AI\" in the output "
   ]
  },
  {
   "cell_type": "code",
   "execution_count": null,
   "id": "16fc848b",
   "metadata": {},
   "outputs": [],
   "source": []
  }
 ],
 "metadata": {
  "kernelspec": {
   "display_name": "Python 3 (ipykernel)",
   "language": "python",
   "name": "python3"
  },
  "language_info": {
   "codemirror_mode": {
    "name": "ipython",
    "version": 3
   },
   "file_extension": ".py",
   "mimetype": "text/x-python",
   "name": "python",
   "nbconvert_exporter": "python",
   "pygments_lexer": "ipython3",
   "version": "3.10.9"
  }
 },
 "nbformat": 4,
 "nbformat_minor": 5
}
