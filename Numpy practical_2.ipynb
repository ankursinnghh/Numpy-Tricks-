{
 "cells": [
  {
   "cell_type": "code",
   "execution_count": 1,
   "id": "109ef597",
   "metadata": {},
   "outputs": [],
   "source": [
    "import numpy as np "
   ]
  },
  {
   "cell_type": "code",
   "execution_count": 3,
   "id": "655395d2",
   "metadata": {},
   "outputs": [
    {
     "name": "stdout",
     "output_type": "stream",
     "text": [
      "[[1 1 1]\n",
      " [1 1 1]\n",
      " [1 1 1]]\n"
     ]
    }
   ],
   "source": [
    "mx_1s =np.array([[1,1,1],[1,1,1],[1,1,1]])\n",
    "print(mx_1s)"
   ]
  },
  {
   "cell_type": "code",
   "execution_count": 9,
   "id": "279e1fd8",
   "metadata": {},
   "outputs": [
    {
     "name": "stdout",
     "output_type": "stream",
     "text": [
      "[1. 1. 1. 1. 1.]\n"
     ]
    }
   ],
   "source": [
    "mx_1s = np.ones(5) #for single row and 5 column , ones means all the elements is 1\n",
    "print(mx_1s)\n",
    "#out = float type data"
   ]
  },
  {
   "cell_type": "code",
   "execution_count": 8,
   "id": "108fa7cc",
   "metadata": {},
   "outputs": [
    {
     "data": {
      "text/plain": [
       "dtype('float64')"
      ]
     },
     "execution_count": 8,
     "metadata": {},
     "output_type": "execute_result"
    }
   ],
   "source": [
    "mx_1s.dtype"
   ]
  },
  {
   "cell_type": "code",
   "execution_count": 13,
   "id": "bd910407",
   "metadata": {},
   "outputs": [
    {
     "name": "stdout",
     "output_type": "stream",
     "text": [
      "[[1. 1. 1. 1.]\n",
      " [1. 1. 1. 1.]\n",
      " [1. 1. 1. 1.]]\n"
     ]
    }
   ],
   "source": [
    "mx_1s =np.ones((3,4)) #for 3 row and 4 column \n",
    "print(mx_1s)\n",
    "#output = float type data"
   ]
  },
  {
   "cell_type": "code",
   "execution_count": 15,
   "id": "e23d80f5",
   "metadata": {},
   "outputs": [
    {
     "name": "stdout",
     "output_type": "stream",
     "text": [
      "[[1 1 1 1]\n",
      " [1 1 1 1]\n",
      " [1 1 1 1]]\n"
     ]
    }
   ],
   "source": [
    "mx_1s = np.ones((3,4),dtype= int)\n",
    "print(mx_1s)"
   ]
  },
  {
   "cell_type": "code",
   "execution_count": 16,
   "id": "4c68f182",
   "metadata": {},
   "outputs": [
    {
     "name": "stdout",
     "output_type": "stream",
     "text": [
      "[[0. 0. 0. 0. 0. 0.]\n",
      " [0. 0. 0. 0. 0. 0.]\n",
      " [0. 0. 0. 0. 0. 0.]\n",
      " [0. 0. 0. 0. 0. 0.]]\n"
     ]
    }
   ],
   "source": [
    "mx_0s = np.zeros((4,6))\n",
    "print(mx_0s)"
   ]
  },
  {
   "cell_type": "code",
   "execution_count": 17,
   "id": "8764ca15",
   "metadata": {},
   "outputs": [
    {
     "name": "stdout",
     "output_type": "stream",
     "text": [
      "[[False False False False False False]\n",
      " [False False False False False False]\n",
      " [False False False False False False]\n",
      " [False False False False False False]]\n"
     ]
    }
   ],
   "source": [
    "mx_0s = np.zeros((4,6), dtype = bool) #bool means boolean , in boolean \"0\"representys the false,thats why false in output\n",
    "print(mx_0s)"
   ]
  },
  {
   "cell_type": "code",
   "execution_count": 18,
   "id": "4a92600f",
   "metadata": {},
   "outputs": [
    {
     "name": "stdout",
     "output_type": "stream",
     "text": [
      "[['' '' '' '' '' '']\n",
      " ['' '' '' '' '' '']\n",
      " ['' '' '' '' '' '']\n",
      " ['' '' '' '' '' '']]\n"
     ]
    }
   ],
   "source": [
    "mx_0s = np.zeros((4,6),dtype = str) #str means string , thats why the output contain the string \n",
    "print(mx_0s)\n",
    "#if u convert the \"false\" and \"0\" into string then we get the \"empty string\""
   ]
  },
  {
   "cell_type": "code",
   "execution_count": 19,
   "id": "7cbfe2a3",
   "metadata": {},
   "outputs": [
    {
     "name": "stdout",
     "output_type": "stream",
     "text": [
      "False\n"
     ]
    }
   ],
   "source": [
    "em_str= ''\n",
    "print(bool(em_str)) # if u convert the empty string into boolean we get the output is \"false\""
   ]
  },
  {
   "cell_type": "code",
   "execution_count": 27,
   "id": "e2d40b8d",
   "metadata": {},
   "outputs": [
    {
     "name": "stdout",
     "output_type": "stream",
     "text": [
      "[[6.23042070e-307 4.67296746e-307 1.69121096e-306 3.00398212e-307\n",
      "  4.22774898e-307 2.67020916e-307 7.56599807e-307]\n",
      " [8.90104239e-307 8.90070286e-308 8.01097889e-307 1.78020169e-306\n",
      "  7.56601165e-307 1.02359984e-306 1.33510679e-306]\n",
      " [2.22522597e-306 1.33511018e-306 6.23057689e-307 1.33511562e-306\n",
      "  6.89805151e-307 2.56765117e-312 3.91792476e-317]]\n"
     ]
    }
   ],
   "source": [
    "em_mx = np.empty((3,7)) \n",
    "print(em_mx)\n",
    "# output may be zero matrix or any thing ,any number "
   ]
  },
  {
   "cell_type": "code",
   "execution_count": null,
   "id": "97ad1581",
   "metadata": {},
   "outputs": [],
   "source": []
  }
 ],
 "metadata": {
  "kernelspec": {
   "display_name": "Python 3 (ipykernel)",
   "language": "python",
   "name": "python3"
  },
  "language_info": {
   "codemirror_mode": {
    "name": "ipython",
    "version": 3
   },
   "file_extension": ".py",
   "mimetype": "text/x-python",
   "name": "python",
   "nbconvert_exporter": "python",
   "pygments_lexer": "ipython3",
   "version": "3.10.9"
  }
 },
 "nbformat": 4,
 "nbformat_minor": 5
}
