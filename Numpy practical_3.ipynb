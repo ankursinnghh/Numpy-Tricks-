{
 "cells": [
  {
   "cell_type": "markdown",
   "id": "0b449735",
   "metadata": {},
   "source": [
    "# NumPy functions:"
   ]
  },
  {
   "cell_type": "code",
   "execution_count": 1,
   "id": "a7be054a",
   "metadata": {},
   "outputs": [],
   "source": [
    "import numpy as np"
   ]
  },
  {
   "cell_type": "markdown",
   "id": "c739dcee",
   "metadata": {},
   "source": [
    "# arrange()"
   ]
  },
  {
   "cell_type": "code",
   "execution_count": 2,
   "id": "1e5b38b3",
   "metadata": {},
   "outputs": [
    {
     "name": "stdout",
     "output_type": "stream",
     "text": [
      "[ 1  2  3  4  5  6  7  8  9 10 11 12]\n"
     ]
    }
   ],
   "source": [
    "#np.arange(satrt,end,steps)\n",
    "ar_1d =np.arange(1,13)\n",
    "print(ar_1d)"
   ]
  },
  {
   "cell_type": "code",
   "execution_count": 3,
   "id": "a4c0ea57",
   "metadata": {},
   "outputs": [
    {
     "name": "stdout",
     "output_type": "stream",
     "text": [
      "[ 1  3  5  7  9 11]\n"
     ]
    }
   ],
   "source": [
    "even_ar = np.arange(1,13,2)\n",
    "print(even_ar)"
   ]
  },
  {
   "cell_type": "markdown",
   "id": "7276731f",
   "metadata": {},
   "source": [
    "# linspace()"
   ]
  },
  {
   "cell_type": "code",
   "execution_count": 4,
   "id": "c1bd679d",
   "metadata": {},
   "outputs": [
    {
     "data": {
      "text/plain": [
       "array([1.        , 2.33333333, 3.66666667, 5.        ])"
      ]
     },
     "execution_count": 4,
     "metadata": {},
     "output_type": "execute_result"
    }
   ],
   "source": [
    "np.linspace(1,5,4) # \"1\"and \"5\"is the range of the output aaray, and \"4\" tells that there is four number in the output , \n",
    "#and the difference of any of two of these fours number in asending order between them gives the constant number 1.33"
   ]
  },
  {
   "cell_type": "markdown",
   "id": "3d05b490",
   "metadata": {},
   "source": [
    "# reshape()"
   ]
  },
  {
   "cell_type": "code",
   "execution_count": 5,
   "id": "3d2aac4b",
   "metadata": {},
   "outputs": [
    {
     "name": "stdout",
     "output_type": "stream",
     "text": [
      "[[ 1  2  3  4  5  6]\n",
      " [ 7  8  9 10 11 12]]\n"
     ]
    }
   ],
   "source": [
    "ar_2d = ar_1d.reshape(2,6) # 2 represent the number of row and , 6 represent the numbwer of column\n",
    "print(ar_2d)\n",
    "#in this output we have converted 1dimensional aaray  or 1d into two dimensional aaray 2d\n",
    "#and the dot product of these two number in the parent thesis is equals to the 12 "
   ]
  },
  {
   "cell_type": "code",
   "execution_count": 6,
   "id": "2acba9ff",
   "metadata": {},
   "outputs": [
    {
     "name": "stdout",
     "output_type": "stream",
     "text": [
      "[[[ 1  2]\n",
      "  [ 3  4]\n",
      "  [ 5  6]]\n",
      "\n",
      " [[ 7  8]\n",
      "  [ 9 10]\n",
      "  [11 12]]]\n"
     ]
    }
   ],
   "source": [
    "ar_3d = ar_1d.reshape(2,3,2) # 2 represent three dimensional aaray, and 2 represent the two dimensional aaray and ,\n",
    "#last 2 represent the one dimensional aarray\n",
    "print(ar_3d)\n",
    "#and the dot product of the number in the parent thesis is equals to the 12 "
   ]
  },
  {
   "cell_type": "code",
   "execution_count": 7,
   "id": "7b7a8c60",
   "metadata": {},
   "outputs": [
    {
     "name": "stdout",
     "output_type": "stream",
     "text": [
      "[[ 1  2  3  4  5  6]\n",
      " [ 7  8  9 10 11 12]]\n"
     ]
    }
   ],
   "source": [
    "ar = np.arange(1,13).reshape(2,6)\n",
    "print(ar)"
   ]
  },
  {
   "cell_type": "markdown",
   "id": "cdc0d0a0",
   "metadata": {},
   "source": [
    "# ravel()"
   ]
  },
  {
   "cell_type": "code",
   "execution_count": 8,
   "id": "47642a78",
   "metadata": {},
   "outputs": [
    {
     "data": {
      "text/plain": [
       "array([ 1,  2,  3,  4,  5,  6,  7,  8,  9, 10, 11, 12])"
      ]
     },
     "execution_count": 8,
     "metadata": {},
     "output_type": "execute_result"
    }
   ],
   "source": [
    "#ravel convert the multi dimensional aaray into one dimensional aaray\n",
    "ar.ravel()"
   ]
  },
  {
   "cell_type": "markdown",
   "id": "2b5b4a20",
   "metadata": {},
   "source": [
    "# flatten()"
   ]
  },
  {
   "cell_type": "code",
   "execution_count": 9,
   "id": "6b6d012e",
   "metadata": {},
   "outputs": [
    {
     "data": {
      "text/plain": [
       "array([ 1,  2,  3,  4,  5,  6,  7,  8,  9, 10, 11, 12])"
      ]
     },
     "execution_count": 9,
     "metadata": {},
     "output_type": "execute_result"
    }
   ],
   "source": [
    "#flatten also converted the multidimensional aaray into one dimensional aaray \n",
    "ar.flatten()"
   ]
  },
  {
   "cell_type": "markdown",
   "id": "166ccd76",
   "metadata": {},
   "source": [
    "# transpose()"
   ]
  },
  {
   "cell_type": "code",
   "execution_count": 10,
   "id": "ff1300e2",
   "metadata": {},
   "outputs": [
    {
     "data": {
      "text/plain": [
       "array([[ 1,  7],\n",
       "       [ 2,  8],\n",
       "       [ 3,  9],\n",
       "       [ 4, 10],\n",
       "       [ 5, 11],\n",
       "       [ 6, 12]])"
      ]
     },
     "execution_count": 10,
     "metadata": {},
     "output_type": "execute_result"
    }
   ],
   "source": [
    "ar.transpose() # here we convert the array \"ar\" into (6,2) , but the intiallay the aaray \"ar\" in the form of (2,6)\n",
    "#where 2 represent the number of row and 6 represent the number of column "
   ]
  },
  {
   "cell_type": "code",
   "execution_count": 11,
   "id": "395fbeac",
   "metadata": {},
   "outputs": [
    {
     "data": {
      "text/plain": [
       "array([[ 1,  7],\n",
       "       [ 2,  8],\n",
       "       [ 3,  9],\n",
       "       [ 4, 10],\n",
       "       [ 5, 11],\n",
       "       [ 6, 12]])"
      ]
     },
     "execution_count": 11,
     "metadata": {},
     "output_type": "execute_result"
    }
   ],
   "source": [
    "ar.T # we can also use the \"T\" for the transepose of the matrix"
   ]
  }
 ],
 "metadata": {
  "kernelspec": {
   "display_name": "Python 3 (ipykernel)",
   "language": "python",
   "name": "python3"
  },
  "language_info": {
   "codemirror_mode": {
    "name": "ipython",
    "version": 3
   },
   "file_extension": ".py",
   "mimetype": "text/x-python",
   "name": "python",
   "nbconvert_exporter": "python",
   "pygments_lexer": "ipython3",
   "version": "3.10.9"
  }
 },
 "nbformat": 4,
 "nbformat_minor": 5
}
